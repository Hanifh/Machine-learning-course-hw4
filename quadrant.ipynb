{
 "cells": [
  {
   "cell_type": "code",
   "execution_count": 30,
   "metadata": {},
   "outputs": [
    {
     "name": "stdout",
     "output_type": "stream",
     "text": [
      "+ - -\n"
     ]
    }
   ],
   "source": [
    "import numpy as np\n",
    "\n",
    "D = {-1:\"-\", 1:\"+\"}\n",
    "\n",
    "def find(x,y,z):\n",
    "    inx = x/abs(x)\n",
    "    iny = y/abs(y)\n",
    "    inz = z/abs(z)\n",
    "    print(D[inx],D[iny],D[inz])\n",
    "    \n",
    "find(1, -1, -1)\n",
    "    "
   ]
  },
  {
   "cell_type": "code",
   "execution_count": null,
   "metadata": {},
   "outputs": [],
   "source": []
  }
 ],
 "metadata": {
  "kernelspec": {
   "display_name": "Python 3",
   "language": "python",
   "name": "python3"
  },
  "language_info": {
   "codemirror_mode": {
    "name": "ipython",
    "version": 3
   },
   "file_extension": ".py",
   "mimetype": "text/x-python",
   "name": "python",
   "nbconvert_exporter": "python",
   "pygments_lexer": "ipython3",
   "version": "3.7.1"
  }
 },
 "nbformat": 4,
 "nbformat_minor": 2
}
